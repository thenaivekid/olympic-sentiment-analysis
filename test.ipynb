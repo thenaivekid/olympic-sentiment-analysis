{
 "cells": [
  {
   "cell_type": "code",
   "execution_count": 1,
   "metadata": {},
   "outputs": [],
   "source": [
    "import pandas as pd\n",
    "import numpy as np\n",
    "import matplotlib.pyplot as plt\n",
    "import seaborn as sns"
   ]
  },
  {
   "cell_type": "code",
   "execution_count": 2,
   "metadata": {},
   "outputs": [],
   "source": [
    "df = pd.read_csv('final_data.csv')\n",
    "df.head()\n",
    "df['num_labels'] = df['labels'].map({'NEG': 0, 'NEU': 1, 'POS': 2})"
   ]
  },
  {
   "cell_type": "code",
   "execution_count": 3,
   "metadata": {},
   "outputs": [
    {
     "data": {
      "text/html": [
       "<div>\n",
       "<style scoped>\n",
       "    .dataframe tbody tr th:only-of-type {\n",
       "        vertical-align: middle;\n",
       "    }\n",
       "\n",
       "    .dataframe tbody tr th {\n",
       "        vertical-align: top;\n",
       "    }\n",
       "\n",
       "    .dataframe thead th {\n",
       "        text-align: right;\n",
       "    }\n",
       "</style>\n",
       "<table border=\"1\" class=\"dataframe\">\n",
       "  <thead>\n",
       "    <tr style=\"text-align: right;\">\n",
       "      <th></th>\n",
       "      <th>sn</th>\n",
       "      <th>text</th>\n",
       "      <th>user_location</th>\n",
       "      <th>labels</th>\n",
       "      <th>score</th>\n",
       "      <th>num_labels</th>\n",
       "    </tr>\n",
       "  </thead>\n",
       "  <tbody>\n",
       "    <tr>\n",
       "      <th>0</th>\n",
       "      <td>0</td>\n",
       "      <td>Rejected sports for the 2020 Olympics include ...</td>\n",
       "      <td>New Jersey</td>\n",
       "      <td>NEG</td>\n",
       "      <td>0.798451</td>\n",
       "      <td>0</td>\n",
       "    </tr>\n",
       "    <tr>\n",
       "      <th>1</th>\n",
       "      <td>1</td>\n",
       "      <td>Why is the Team USA men basketball team playin...</td>\n",
       "      <td>Lynwood, CA</td>\n",
       "      <td>NEG</td>\n",
       "      <td>0.980415</td>\n",
       "      <td>0</td>\n",
       "    </tr>\n",
       "    <tr>\n",
       "      <th>2</th>\n",
       "      <td>2</td>\n",
       "      <td>@my_hive_away I'm watching kayaking on the Oly...</td>\n",
       "      <td>NaN</td>\n",
       "      <td>POS</td>\n",
       "      <td>0.985244</td>\n",
       "      <td>2</td>\n",
       "    </tr>\n",
       "    <tr>\n",
       "      <th>3</th>\n",
       "      <td>3</td>\n",
       "      <td>While girls her age are still trying to figuri...</td>\n",
       "      <td>United States</td>\n",
       "      <td>NEU</td>\n",
       "      <td>0.967262</td>\n",
       "      <td>1</td>\n",
       "    </tr>\n",
       "    <tr>\n",
       "      <th>4</th>\n",
       "      <td>4</td>\n",
       "      <td>@omensfromeden patty mills is at the Olympics???</td>\n",
       "      <td>hozier.tamino.florence.etc.</td>\n",
       "      <td>NEU</td>\n",
       "      <td>0.971178</td>\n",
       "      <td>1</td>\n",
       "    </tr>\n",
       "  </tbody>\n",
       "</table>\n",
       "</div>"
      ],
      "text/plain": [
       "   sn                                               text  \\\n",
       "0   0  Rejected sports for the 2020 Olympics include ...   \n",
       "1   1  Why is the Team USA men basketball team playin...   \n",
       "2   2  @my_hive_away I'm watching kayaking on the Oly...   \n",
       "3   3  While girls her age are still trying to figuri...   \n",
       "4   4   @omensfromeden patty mills is at the Olympics???   \n",
       "\n",
       "                 user_location labels     score  num_labels  \n",
       "0                   New Jersey    NEG  0.798451           0  \n",
       "1                  Lynwood, CA    NEG  0.980415           0  \n",
       "2                          NaN    POS  0.985244           2  \n",
       "3                United States    NEU  0.967262           1  \n",
       "4  hozier.tamino.florence.etc.    NEU  0.971178           1  "
      ]
     },
     "execution_count": 3,
     "metadata": {},
     "output_type": "execute_result"
    }
   ],
   "source": [
    "df.head()"
   ]
  },
  {
   "cell_type": "code",
   "execution_count": 4,
   "metadata": {},
   "outputs": [
    {
     "data": {
      "text/html": [
       "<div>\n",
       "<style scoped>\n",
       "    .dataframe tbody tr th:only-of-type {\n",
       "        vertical-align: middle;\n",
       "    }\n",
       "\n",
       "    .dataframe tbody tr th {\n",
       "        vertical-align: top;\n",
       "    }\n",
       "\n",
       "    .dataframe thead th {\n",
       "        text-align: right;\n",
       "    }\n",
       "</style>\n",
       "<table border=\"1\" class=\"dataframe\">\n",
       "  <thead>\n",
       "    <tr style=\"text-align: right;\">\n",
       "      <th></th>\n",
       "      <th>text</th>\n",
       "      <th>num_labels</th>\n",
       "      <th>score</th>\n",
       "    </tr>\n",
       "  </thead>\n",
       "  <tbody>\n",
       "    <tr>\n",
       "      <th>0</th>\n",
       "      <td>Rejected sports for the 2020 Olympics include ...</td>\n",
       "      <td>0</td>\n",
       "      <td>0.798451</td>\n",
       "    </tr>\n",
       "    <tr>\n",
       "      <th>1</th>\n",
       "      <td>Why is the Team USA men basketball team playin...</td>\n",
       "      <td>0</td>\n",
       "      <td>0.980415</td>\n",
       "    </tr>\n",
       "    <tr>\n",
       "      <th>2</th>\n",
       "      <td>@my_hive_away I'm watching kayaking on the Oly...</td>\n",
       "      <td>2</td>\n",
       "      <td>0.985244</td>\n",
       "    </tr>\n",
       "    <tr>\n",
       "      <th>3</th>\n",
       "      <td>While girls her age are still trying to figuri...</td>\n",
       "      <td>1</td>\n",
       "      <td>0.967262</td>\n",
       "    </tr>\n",
       "    <tr>\n",
       "      <th>4</th>\n",
       "      <td>@omensfromeden patty mills is at the Olympics???</td>\n",
       "      <td>1</td>\n",
       "      <td>0.971178</td>\n",
       "    </tr>\n",
       "    <tr>\n",
       "      <th>...</th>\n",
       "      <td>...</td>\n",
       "      <td>...</td>\n",
       "      <td>...</td>\n",
       "    </tr>\n",
       "    <tr>\n",
       "      <th>126995</th>\n",
       "      <td>Moroccan heavyweight boxer Youness Baalla atte...</td>\n",
       "      <td>2</td>\n",
       "      <td>0.992508</td>\n",
       "    </tr>\n",
       "    <tr>\n",
       "      <th>126996</th>\n",
       "      <td>it's so cool like whenever some shit went down...</td>\n",
       "      <td>1</td>\n",
       "      <td>0.912993</td>\n",
       "    </tr>\n",
       "    <tr>\n",
       "      <th>126997</th>\n",
       "      <td>She built a big lead right from the start, the...</td>\n",
       "      <td>2</td>\n",
       "      <td>0.986000</td>\n",
       "    </tr>\n",
       "    <tr>\n",
       "      <th>126998</th>\n",
       "      <td>@SandiVeronik @Svizzer8764 @BrittAbelsen @Didi...</td>\n",
       "      <td>1</td>\n",
       "      <td>0.771630</td>\n",
       "    </tr>\n",
       "    <tr>\n",
       "      <th>126999</th>\n",
       "      <td>@Simone_Biles is the strongest &amp;amp; most powe...</td>\n",
       "      <td>0</td>\n",
       "      <td>0.835241</td>\n",
       "    </tr>\n",
       "  </tbody>\n",
       "</table>\n",
       "<p>127000 rows × 3 columns</p>\n",
       "</div>"
      ],
      "text/plain": [
       "                                                     text  num_labels  \\\n",
       "0       Rejected sports for the 2020 Olympics include ...           0   \n",
       "1       Why is the Team USA men basketball team playin...           0   \n",
       "2       @my_hive_away I'm watching kayaking on the Oly...           2   \n",
       "3       While girls her age are still trying to figuri...           1   \n",
       "4        @omensfromeden patty mills is at the Olympics???           1   \n",
       "...                                                   ...         ...   \n",
       "126995  Moroccan heavyweight boxer Youness Baalla atte...           2   \n",
       "126996  it's so cool like whenever some shit went down...           1   \n",
       "126997  She built a big lead right from the start, the...           2   \n",
       "126998  @SandiVeronik @Svizzer8764 @BrittAbelsen @Didi...           1   \n",
       "126999  @Simone_Biles is the strongest &amp; most powe...           0   \n",
       "\n",
       "           score  \n",
       "0       0.798451  \n",
       "1       0.980415  \n",
       "2       0.985244  \n",
       "3       0.967262  \n",
       "4       0.971178  \n",
       "...          ...  \n",
       "126995  0.992508  \n",
       "126996  0.912993  \n",
       "126997  0.986000  \n",
       "126998  0.771630  \n",
       "126999  0.835241  \n",
       "\n",
       "[127000 rows x 3 columns]"
      ]
     },
     "execution_count": 4,
     "metadata": {},
     "output_type": "execute_result"
    }
   ],
   "source": [
    "df = df[['text', 'num_labels', 'score']]\n",
    "df"
   ]
  },
  {
   "cell_type": "code",
   "execution_count": 5,
   "metadata": {},
   "outputs": [],
   "source": [
    "df.to_csv('data_small.csv', index=False)"
   ]
  },
  {
   "cell_type": "code",
   "execution_count": 4,
   "metadata": {},
   "outputs": [
    {
     "name": "stdout",
     "output_type": "stream",
     "text": [
      "Int64Index([1, 2, 0], dtype='int64') [54234 46865 25901]\n"
     ]
    }
   ],
   "source": [
    "sent_count = df['num_labels'].value_counts()\n",
    "print(sent_count.index, sent_count.values)"
   ]
  },
  {
   "cell_type": "code",
   "execution_count": 5,
   "metadata": {},
   "outputs": [
    {
     "name": "stdout",
     "output_type": "stream",
     "text": [
      "127000\n"
     ]
    },
    {
     "data": {
      "image/png": "[encoded data removed]",
      "text/plain": [
       "<Figure size 640x480 with 1 Axes>"
      ]
     },
     "metadata": {},
     "output_type": "display_data"
    }
   ],
   "source": [
    "def plot_distribution(sent_count, title='Sentiments'):\n",
    "    print(sum(sent_count.values))\n",
    "    sns.barplot(x = sent_count.index, y=sent_count.values)\n",
    "    plt.xlabel('Labels')\n",
    "    plt.ylabel('Count')\n",
    "    plt.title('Label Distribution')\n",
    "    plt.show()\n",
    "\n",
    "plot_distribution(sent_count)"
   ]
  },
  {
   "cell_type": "code",
   "execution_count": 56,
   "metadata": {},
   "outputs": [
    {
     "data": {
      "image/png": "[encoded data removed]",
      "text/plain": [
       "<Figure size 640x480 with 1 Axes>"
      ]
     },
     "metadata": {},
     "output_type": "display_data"
    }
   ],
   "source": [
    "# from fuzzywuzzy import fuzz\n",
    "\n",
    "target_word = \"nepal\"\n",
    "\n",
    "# df_filtered_fuzz = df[df['text'].apply(lambda x: fuzz.partial_ratio(x, target_word)) > 70]\n",
    "df_filtered = df[df['text'].str.contains(target_word, case=False)]\n",
    "\n",
    "# sentiment_count_fuzz = df_filtered_fuzz['num_labels'].value_counts()\n",
    "sentiment_count = df_filtered['num_labels'].value_counts()\n",
    "\n",
    "# plot_distribution(sentiment_count_fuzz)\n",
    "plot_distribution(sentiment_count, title='nepal')"
   ]
  },
  {
   "cell_type": "code",
   "execution_count": 60,
   "metadata": {},
   "outputs": [
    {
     "name": "stdout",
     "output_type": "stream",
     "text": [
      "0   @OnlinePalEng Don't #IStandWithIsrael \n",
      "#Israel Ethnic Cleansing #Palestinians\n",
      "🇵🇸🇵🇸🇵🇸\n",
      "#Palestine #Gaza #WestBank… https://t.co/SKpZidzO4I\n",
      "1   School in Nepal have only 1 sports class per week. And we expect 100 of medals in Olympics.\n",
      "2   @OnlinePalEng A shame, no matter what a fine gesture it is, these athletes have spent years working for the chance… https://t.co/yMmJQbkGUF\n",
      "3   If olympics has the #kuraKatne \n",
      "Competition \n",
      "\n",
      "Nepali aunties will have the gold medal for sure 😄\n",
      "4   School in Nepal have only 1 sports class per week and we expect Gold Medal in Olympics...\n",
      "#Olympics #Sport\n",
      "5   @OnlinePalEng Israel vs Broom\n",
      "Israel vs Balloons\n",
      "Israel vs Flag\n",
      "Israel vs Tent\n",
      "Don't #IStandWithIsrael \n",
      "🇵🇸🇵🇸🇵🇸… https://t.co/UGAng7BKKs\n",
      "6   Nepali Players is also participates in Tokyo Olympics 2021. From Nepal, Gaurika Singh and Alexander Shah of Swimmin… https://t.co/cADfjOb5iA\n",
      "7   Best Wishes #TeamNepal in #Olympics2020 -#TokyoOlympics2020 !\n",
      "\n",
      "-#DrBishnuHariNepalPeaceFoundation@#Nepal-#Himalayas… https://t.co/GhqxxJrfQY\n",
      "8   RisingNepal: Naomi Osaka will leave Tokyo Olympics without a medal, loses in 3rd round to Marketa Vondrousova - https://t.co/KChNuDxKrW\n",
      "9   *watching the olympics*\n",
      "\n",
      "Me: “Imagine canoeing in a pool”\n",
      "\n",
      "My mum: “Did you just ask if I want to go canoeing in Nepal??”\n",
      "\n",
      "#deaf #Olympics\n",
      "10   RisingNepal: Tokyo Olympics: Tom Dean takes gold &amp; Duncan Scott silver for GB in 200m freestyle - https://t.co/VgAdC8GI0k\n",
      "11   @OnlinePalEng @buttertann Why is Israel even allowed to be in the Olympics in the first place\n",
      "12   Till now nepal in failed to grab any medal from tokyo olympics . Is this the failure of https://t.co/DPzJkVRF4l or the  failure of players\n",
      "13   @ihavea5thsense So want to watch the 21 overzealous Nepali Officials perform at the Olympics 😭\n",
      "14   Nepali Swimmer Alex Shah competing in the Olympics today https://t.co/at2FhD2vjc\n",
      "15   Nepali Swimmer Alex Shah competing in the Olympics today https://t.co/9rpJXdDo2I\n",
      "16   My #Olympics #OlympicGamesTokyo2020 coincidence between #SolomonIslands🇸🇧 and #Nepal  continues 😜🤦🏻😂. #happening to… https://t.co/0nZkU5OczN\n",
      "17   @PrazwolPhuyal1 @Tokyo2020 @Olympics @NocNepal याे हाे नियम भर्खर विकिपेडिया चेक गरेकाे \n",
      "The swimmers with the top… https://t.co/Xj80ncQGmL\n",
      "18   Big day in Olympics: Nepali Young Swimmer Alex Shah will be competing in 100 meters Free style swimming in Tokyo Ol… https://t.co/NkQR05Zkzr\n",
      "19   @OnlinePalEng Don't #IStandWithIsrael \n",
      "#Israel Ethnic Cleansing #Palestinians\n",
      "🇵🇸🇵🇸🇵🇸\n",
      "#Palestine #Gaza #WestBank… https://t.co/Mw7QHwUEaF\n"
     ]
    }
   ],
   "source": [
    "def print_tweets(df_filtered, num_tweets=20):\n",
    "    for i, text in enumerate(df_filtered.head(num_tweets)['text']):\n",
    "        print(i, ' ', text)\n",
    "print_tweets(df_filtered)\n"
   ]
  }
 ],
 "metadata": {
  "kernelspec": {
   "display_name": "Python 3",
   "language": "python",
   "name": "python3"
  },
  "language_info": {
   "codemirror_mode": {
    "name": "ipython",
    "version": 3
   },
   "file_extension": ".py",
   "mimetype": "text/x-python",
   "name": "python",
   "nbconvert_exporter": "python",
   "pygments_lexer": "ipython3",
   "version": "3.11.4"
  },
  "orig_nbformat": 4
 },
 "nbformat": 4,
 "nbformat_minor": 2
}
